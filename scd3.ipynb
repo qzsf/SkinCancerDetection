{
 "cells": [
  {
   "cell_type": "code",
   "execution_count": null,
   "metadata": {},
   "outputs": [],
   "source": [
    "from sklearn.model_selection import train_test_split\n",
    "\n",
    "# Manually split the dataframe into training and validation sets\n",
    "train_df, val_df = train_test_split(merged_data, test_size=0.2, random_state=42, shuffle=True)\n",
    "\n",
    "# Extract and scale metadata for training and validation sets\n",
    "X_train_metadata = scaler.fit_transform(train_df[metadata_features].values)\n",
    "X_val_metadata = scaler.transform(val_df[metadata_features].values)\n",
    "\n",
    "\n",
    "datagen = ImageDataGenerator(rescale=1./255)\n",
    "# Create ImageDataGenerator instances for training and validation\n",
    "train_image_generator = datagen.flow_from_dataframe(\n",
    "    dataframe=train_df,\n",
    "    directory='train-image/image/',\n",
    "    x_col='image',\n",
    "    y_col='label',\n",
    "    target_size=(224, 224),\n",
    "    batch_size=32,\n",
    "    class_mode='binary'\n",
    ")\n",
    "\n",
    "validation_image_generator = datagen.flow_from_dataframe(\n",
    "    dataframe=val_df,\n",
    "    directory='train-image/image/',\n",
    "    x_col='image',\n",
    "    y_col='label',\n",
    "    target_size=(224, 224),\n",
    "    batch_size=32,\n",
    "    class_mode='binary'\n",
    ")\n",
    "\n",
    "# Update the custom generator to use the split metadata\n",
    "def custom_generator(image_gen, metadata):\n",
    "    while True:\n",
    "        image_batch, label_batch = next(image_gen)\n",
    "        indices = image_gen.index_array\n",
    "        metadata_batch = metadata[indices]\n",
    "        yield {'image_input': image_batch, 'metadata_input': metadata_batch}, label_batch\n",
    "\n",
    "# Training the model using the updated generator\n",
    "history = model.fit(\n",
    "    custom_generator(train_image_generator, X_train_metadata),\n",
    "    steps_per_epoch=len(train_image_generator),\n",
    "    epochs=10,\n",
    "    validation_data=custom_generator(validation_image_generator, X_val_metadata),\n",
    "    validation_steps=len(validation_image_generator)\n",
    ")\n"
   ]
  }
 ],
 "metadata": {
  "language_info": {
   "name": "python"
  }
 },
 "nbformat": 4,
 "nbformat_minor": 2
}
