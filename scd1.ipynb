{
 "cells": [
  {
   "cell_type": "code",
   "execution_count": null,
   "metadata": {},
   "outputs": [],
   "source": [
    "import numpy as np\n",
    "import pandas as pd\n",
    "\n",
    "# from sklearn.metrics import r2_score\n",
    "from sklearn.preprocessing import StandardScaler\n",
    "\n",
    "import tensorflow as tf\n",
    "from tensorflow.keras.applications import VGG16\n",
    "from tensorflow.keras.layers import Input, Dense, Flatten, concatenate\n",
    "from tensorflow.keras.models import Model\n",
    "import matplotlib.pyplot as plt\n",
    "import matplotlib.image as mpimg\n",
    "import os\n",
    "import random\n",
    "\n",
    "from tensorflow.keras.preprocessing.image import ImageDataGenerator"
   ]
  },
  {
   "cell_type": "code",
   "execution_count": null,
   "metadata": {},
   "outputs": [],
   "source": [
    "data = pd.read_csv('train-metadata.csv')\n",
    "# display all columns and rows\n",
    "pd.set_option('display.max_columns', None)\n",
    "data.sample(3)"
   ]
  },
  {
   "cell_type": "code",
   "execution_count": null,
   "metadata": {},
   "outputs": [],
   "source": [
    "data.shape\n",
    "#  data.info(verbose=True, show_counts=True)"
   ]
  },
  {
   "cell_type": "code",
   "execution_count": null,
   "metadata": {},
   "outputs": [],
   "source": [
    "# drop the columns not needed\n",
    "data = data.drop(['lesion_id','iddx_full','iddx_1', 'iddx_2','iddx_3','iddx_4','iddx_5','mel_mitotic_index','mel_thick_mm','tbp_lv_dnn_lesion_confidence','attribution','copyright_license','patient_id','image_type','tbp_tile_type','tbp_lv_location_simple'], axis=1)\n",
    "data.shape"
   ]
  },
  {
   "cell_type": "code",
   "execution_count": null,
   "metadata": {},
   "outputs": [],
   "source": [
    "pd.set_option('display.max_rows',None)\n",
    "data.isna().sum()"
   ]
  },
  {
   "cell_type": "code",
   "execution_count": null,
   "metadata": {},
   "outputs": [],
   "source": [
    "# fill missing age values with a specific value\n",
    "mean_age = data['age_approx'].mean()\n",
    "data['age_approx'].fillna(mean_age, inplace=True)\n",
    "# fill missing sex values with a specific value\n",
    "data['sex'].fillna('Unknown', inplace=True)\n",
    "# fill missing values with a specific value\n",
    "data['anatom_site_general'].fillna('Missing', inplace=True)"
   ]
  },
  {
   "cell_type": "code",
   "execution_count": null,
   "metadata": {},
   "outputs": [],
   "source": [
    "# get benign and malignant cases and store in seperate variables\n",
    "benign = data[data['target'] == 0]\n",
    "malignant = data[data['target'] == 1]\n",
    "\n",
    "# plt.bar(['benign','malignant'], [len(benign), len(malignant)])\n",
    "# plt.xlabel('Diagnose')\n",
    "# plt.ylabel('Number')\n",
    "# plt.title('Target Bar Chart')"
   ]
  },
  {
   "cell_type": "code",
   "execution_count": null,
   "metadata": {},
   "outputs": [],
   "source": [
    "# number of benign and malignant cases are so imbalanced\n",
    "# here I sample the benign cases to create an balancec dataset\n",
    "# number of malignant cases\n",
    "print(len(malignant))\n",
    "# get 607 benign cases to create a 1000 row dataset\n",
    "benign_sample = benign.sample(n=607, random_state=42)\n",
    "# benign_sample.head()"
   ]
  },
  {
   "cell_type": "code",
   "execution_count": null,
   "metadata": {},
   "outputs": [],
   "source": [
    "# concatenate the benign_sample and malignant dataframes\n",
    "merged_data = pd.concat([benign_sample, malignant], ignore_index=True)\n",
    "\n",
    "# shuffle the dataframe\n",
    "merged_data= merged_data.sample(frac=1, random_state=42).reset_index(drop=True)\n",
    "\n",
    "merged_data.head(5)"
   ]
  },
  {
   "cell_type": "code",
   "execution_count": null,
   "metadata": {},
   "outputs": [],
   "source": [
    "merged_data.shape"
   ]
  },
  {
   "cell_type": "code",
   "execution_count": null,
   "metadata": {},
   "outputs": [],
   "source": [
    "benign_images = [filename for filename in benign_sample['isic_id']]\n",
    "malignant_images = [filename for filename in malignant['isic_id']]"
   ]
  },
  {
   "cell_type": "markdown",
   "metadata": {},
   "source": [
    "### Display the images"
   ]
  },
  {
   "cell_type": "code",
   "execution_count": null,
   "metadata": {},
   "outputs": [],
   "source": [
    "# function to display images\n",
    "def display_images(image_paths, category):\n",
    "    plt.figure(figsize=(24, 4))\n",
    "    for i, img_path in enumerate(image_paths):\n",
    "        plt.subplot(1, 3, i + 1)\n",
    "        img = mpimg.imread(os.path.join('train-image/image/', img_path + '.jpg'))\n",
    "        plt.imshow(img)\n",
    "        plt.title(category)\n",
    "        plt.axis('off')\n",
    "    plt.show()\n",
    "\n",
    "# selecting three random images of cats\n",
    "selected_benign_images = random.sample(benign_images, 3)\n",
    "\n",
    "# selecting three random images of dogs\n",
    "selected_malignant_images = random.sample(malignant_images, 3)\n",
    "\n",
    "# display the images\n",
    "display_images(selected_benign_images, 'Benign')\n",
    "display_images(selected_malignant_images, 'Malignant')"
   ]
  },
  {
   "cell_type": "code",
   "execution_count": null,
   "metadata": {},
   "outputs": [],
   "source": [
    "# convert categorical columns to numerical\n",
    "merged_data = pd.get_dummies(merged_data, columns=['sex', 'anatom_site_general', 'tbp_lv_location'])\n",
    "\n",
    "# create the image file name column\n",
    "merged_data['image'] = merged_data['isic_id'] + '.jpg'\n",
    "merged_data['label'] = merged_data['target'].map({0: 'benign', 1: 'malignant'})\n",
    "merged_data.head(5)\n",
    "# X = merged_data.drop(columns=['target'])\n",
    "# y = merged_data['target']\n",
    "\n",
    "# convert categorical columns to numerical\n",
    "# X_encoded = pd.get_dummies(X, columns=['sex', 'anatom_site_general', 'tbp_lv_location'])\n",
    "# X_encoded.head(3)\n"
   ]
  },
  {
   "cell_type": "code",
   "execution_count": null,
   "metadata": {},
   "outputs": [],
   "source": [
    "merged_data.shape"
   ]
  },
  {
   "cell_type": "code",
   "execution_count": null,
   "metadata": {},
   "outputs": [],
   "source": [
    "# merged_data.head(5).to_csv('sampled_data.csv', index=False)\n",
    "# extract and preprocess metadata\n",
    "metadata_features = ['age_approx', 'clin_size_long_diam_mm', 'tbp_lv_A', 'tbp_lv_Aext', 'tbp_lv_B', 'tbp_lv_Bext', 'tbp_lv_C', 'tbp_lv_Cext', 'tbp_lv_H', 'tbp_lv_Hext', 'tbp_lv_L', 'tbp_lv_Lext', 'tbp_lv_areaMM2', 'tbp_lv_area_perim_ratio', 'tbp_lv_color_std_mean', 'tbp_lv_deltaA', 'tbp_lv_deltaB', 'tbp_lv_deltaL', 'tbp_lv_deltaLB', 'tbp_lv_deltaLBnorm', 'tbp_lv_eccentricity', 'tbp_lv_minorAxisMM', 'tbp_lv_nevi_confidence', 'tbp_lv_norm_border', 'tbp_lv_norm_color', 'tbp_lv_perimeterMM', 'tbp_lv_radial_color_std_max', 'tbp_lv_stdL', 'tbp_lv_stdLExt', 'tbp_lv_symm_2axis', 'tbp_lv_symm_2axis_angle', 'tbp_lv_x', 'tbp_lv_y', 'tbp_lv_z', 'sex_Unknown', 'sex_female', 'sex_male', 'anatom_site_general_Missing', 'anatom_site_general_anterior torso', 'anatom_site_general_head/neck', 'anatom_site_general_lower extremity', 'anatom_site_general_posterior torso', 'anatom_site_general_upper extremity', 'tbp_lv_location_Head & Neck', 'tbp_lv_location_Left Arm', 'tbp_lv_location_Left Arm - Lower', 'tbp_lv_location_Left Arm - Upper', 'tbp_lv_location_Left Leg', 'tbp_lv_location_Left Leg - Lower', 'tbp_lv_location_Left Leg - Upper', 'tbp_lv_location_Right Arm', 'tbp_lv_location_Right Arm - Lower', 'tbp_lv_location_Right Arm - Upper', 'tbp_lv_location_Right Leg', 'tbp_lv_location_Right Leg - Lower', 'tbp_lv_location_Right Leg - Upper', 'tbp_lv_location_Torso Back Bottom Third', 'tbp_lv_location_Torso Back Middle Third', 'tbp_lv_location_Torso Back Top Third', 'tbp_lv_location_Torso Front Bottom Half', 'tbp_lv_location_Torso Front Top Half', 'tbp_lv_location_Unknown']\n",
    "X_metadata = merged_data[metadata_features].values\n",
    "\n",
    "# standardize metadata\n",
    "scaler = StandardScaler()\n",
    "X_metadata = scaler.fit_transform(X_metadata)\n",
    "X_metadata.shape"
   ]
  },
  {
   "cell_type": "code",
   "execution_count": null,
   "metadata": {},
   "outputs": [],
   "source": [
    "# image size\n",
    "# image_width, image_height = 224, 224\n",
    "# batch_size = 32\n",
    "\n",
    "# image processing\n",
    "datagen = ImageDataGenerator(rescale=1./255, validation_split=0.2)\n",
    "train_image_generator = datagen.flow_from_dataframe(\n",
    "    dataframe=merged_data,\n",
    "    directory='train-image/image/',\n",
    "    x_col='image',\n",
    "    y_col='label',\n",
    "    target_size=(224, 224),\n",
    "    batch_size=32,\n",
    "    class_mode='binary',\n",
    "    subset='training'\n",
    ")\n",
    "\n",
    "validation_image_generator = datagen.flow_from_dataframe(\n",
    "    dataframe=merged_data,\n",
    "    directory='train-image/image/',\n",
    "    x_col='image',\n",
    "    y_col='label',\n",
    "    target_size=(224, 224),\n",
    "    batch_size=32,\n",
    "    class_mode='binary',\n",
    "    subset='validation'\n",
    ")"
   ]
  },
  {
   "cell_type": "code",
   "execution_count": null,
   "metadata": {},
   "outputs": [],
   "source": [
    "# load vgg model\n",
    "base_model = VGG16(weights='imagenet', include_top=False, input_shape=(224, 224, 3))\n",
    "\n",
    "# freeze the layers of the base model\n",
    "for layer in base_model.layers:\n",
    "    layer.trainable = False"
   ]
  },
  {
   "cell_type": "code",
   "execution_count": null,
   "metadata": {},
   "outputs": [],
   "source": [
    "# image input\n",
    "image_input = Input(shape=(224, 224, 3), name='image_input')\n",
    "vgg16_features = base_model(image_input)\n",
    "# flatten the vgg16 output\n",
    "x = Flatten(name='flatten')(vgg16_features)"
   ]
  },
  {
   "cell_type": "code",
   "execution_count": null,
   "metadata": {},
   "outputs": [],
   "source": [
    "# define the metadata model\n",
    "metadata_input = Input(shape=(X_metadata.shape[1],), name='metadata_input')\n",
    "y = Dense(64, activation='relu')(metadata_input)\n",
    "y = Dense(32, activation='relu')(y)\n",
    "\n",
    "# combine the image and metadata networks\n",
    "combined = concatenate([x, y])\n",
    "z = Dense(64, activation='relu')(combined)\n",
    "z = Dense(1, activation='sigmoid')(z)  # Output layer for binary classification\n",
    "\n",
    "# create the model\n",
    "model = Model(inputs=[image_input, metadata_input], outputs=z)\n",
    "\n",
    "# compile the model\n",
    "model.compile(optimizer='adam', loss='binary_crossentropy', metrics=['accuracy'])\n"
   ]
  },
  {
   "cell_type": "code",
   "execution_count": null,
   "metadata": {},
   "outputs": [],
   "source": [
    "model.summary()"
   ]
  },
  {
   "cell_type": "code",
   "execution_count": null,
   "metadata": {},
   "outputs": [],
   "source": [
    "# define custom data generator to provide image and metadata together\n",
    "def custom_generator(image_gen, metadata):\n",
    "    while True:\n",
    "        image_batch, label_batch = next(image_gen)  # Correct unpacking\n",
    "        indices = image_gen.index_array\n",
    "        metadata_batch = metadata[indices]\n",
    "        yield {'image_input': image_batch, 'metadata_input': metadata_batch}, label_batch\n",
    "\n",
    "# training the model\n",
    "history = model.fit(\n",
    "    custom_generator(train_image_generator, X_metadata),\n",
    "    steps_per_epoch=len(train_image_generator),\n",
    "    epochs=10,\n",
    "    validation_data=custom_generator(validation_image_generator, X_metadata),\n",
    "    validation_steps=len(validation_image_generator)\n",
    ")"
   ]
  },
  {
   "cell_type": "code",
   "execution_count": null,
   "metadata": {},
   "outputs": [],
   "source": [
    "# Evaluate the model\n",
    "plt.plot(history.history['accuracy'], label='accuracy')\n",
    "plt.plot(history.history['val_accuracy'], label = 'val_accuracy')\n",
    "plt.xlabel('Epoch')\n",
    "plt.ylabel('Accuracy')\n",
    "plt.ylim([0.8, 1])\n",
    "plt.legend(loc='lower right')"
   ]
  },
  {
   "cell_type": "markdown",
   "metadata": {},
   "source": [
    "###\n",
    "###\n",
    "###\n",
    "\n",
    "\n",
    "\n",
    "\n",
    "\n"
   ]
  }
 ],
 "metadata": {
  "interpreter": {
   "hash": "e7dabb2831a1859b376448a662f772b627d16bde2f7325dbdece5285cccfe357"
  },
  "kernelspec": {
   "display_name": "Python 3.9.5 64-bit ('tf-test': venv)",
   "name": "python3"
  },
  "language_info": {
   "codemirror_mode": {
    "name": "ipython",
    "version": 3
   },
   "file_extension": ".py",
   "mimetype": "text/x-python",
   "name": "python",
   "nbconvert_exporter": "python",
   "pygments_lexer": "ipython3",
   "version": "3.9.5"
  },
  "orig_nbformat": 4
 },
 "nbformat": 4,
 "nbformat_minor": 2
}
